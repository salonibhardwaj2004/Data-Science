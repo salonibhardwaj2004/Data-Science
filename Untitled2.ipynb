{
 "cells": [
  {
   "cell_type": "code",
   "execution_count": 1,
   "id": "f88abd51",
   "metadata": {},
   "outputs": [],
   "source": [
    "# Import necessary libraries\n",
    "import pandas as pd\n",
    "import numpy as np\n",
    "from sklearn.preprocessing import StandardScaler, OneHotEncoder\n",
    "from sklearn.metrics.pairwise import cosine_similarity\n",
    "from sklearn.pipeline import Pipeline\n",
    "from sklearn.compose import ColumnTransformer"
   ]
  },
  {
   "cell_type": "code",
   "execution_count": 2,
   "id": "bbdddd56",
   "metadata": {},
   "outputs": [],
   "source": [
    "# Load datasets\n",
    "customers = pd.read_csv(\"Customers.csv\")\n",
    "products = pd.read_csv(\"Products.csv\")\n",
    "transactions = pd.read_csv(\"Transactions.csv\")"
   ]
  },
  {
   "cell_type": "code",
   "execution_count": 3,
   "id": "f15a20aa",
   "metadata": {},
   "outputs": [],
   "source": [
    "# Preprocessing datasets\n",
    "customers[\"SignupDate\"] = pd.to_datetime(customers[\"SignupDate\"])\n",
    "transactions[\"TransactionDate\"] = pd.to_datetime(transactions[\"TransactionDate\"])"
   ]
  },
  {
   "cell_type": "code",
   "execution_count": 4,
   "id": "89d92484",
   "metadata": {},
   "outputs": [],
   "source": [
    "# Merge datasets\n",
    "merged_data = transactions.merge(customers, on=\"CustomerID\").merge(products, on=\"ProductID\")"
   ]
  },
  {
   "cell_type": "code",
   "execution_count": 5,
   "id": "d3ec7b7a",
   "metadata": {},
   "outputs": [],
   "source": [
    "# Aggregate transaction data for customers\n",
    "customer_transactions = merged_data.groupby(\"CustomerID\").agg(\n",
    "    TotalSpent=(\"TotalValue\", \"sum\"),\n",
    "    AvgSpent=(\"TotalValue\", \"mean\"),\n",
    "    TotalQuantity=(\"Quantity\", \"sum\"),\n",
    "    NumTransactions=(\"TransactionID\", \"nunique\"),\n",
    ").reset_index()"
   ]
  },
  {
   "cell_type": "code",
   "execution_count": 6,
   "id": "83600cbb",
   "metadata": {},
   "outputs": [],
   "source": [
    "# Encode and scale customer profile features\n",
    "customer_profiles = customers.merge(customer_transactions, on=\"CustomerID\", how=\"left\").fillna(0)\n",
    "customer_profiles[\"DaysSinceSignup\"] = (pd.Timestamp.now() - customer_profiles[\"SignupDate\"]).dt.days"
   ]
  },
  {
   "cell_type": "code",
   "execution_count": 7,
   "id": "0aa367fa",
   "metadata": {},
   "outputs": [],
   "source": [
    "# Define features for lookalike modeling\n",
    "profile_features = [\"Region\"]\n",
    "numeric_features = [\"TotalSpent\", \"AvgSpent\", \"TotalQuantity\", \"NumTransactions\", \"DaysSinceSignup\"]"
   ]
  },
  {
   "cell_type": "code",
   "execution_count": 8,
   "id": "89bcee5a",
   "metadata": {},
   "outputs": [],
   "source": [
    "# Create a preprocessing pipeline\n",
    "preprocessor = ColumnTransformer(\n",
    "    transformers=[\n",
    "        (\"num\", StandardScaler(), numeric_features),\n",
    "        (\"cat\", OneHotEncoder(), profile_features),\n",
    "    ]\n",
    ")"
   ]
  },
  {
   "cell_type": "code",
   "execution_count": 9,
   "id": "acdcc6c9",
   "metadata": {},
   "outputs": [],
   "source": [
    "# Transform customer profiles into feature vectors\n",
    "feature_pipeline = Pipeline(steps=[(\"preprocessor\", preprocessor)])\n",
    "customer_feature_matrix = feature_pipeline.fit_transform(customer_profiles)"
   ]
  },
  {
   "cell_type": "code",
   "execution_count": 10,
   "id": "89160b2d",
   "metadata": {},
   "outputs": [],
   "source": [
    "# Compute cosine similarity between all customers\n",
    "similarity_matrix = cosine_similarity(customer_feature_matrix)\n",
    "\n",
    "# Create a DataFrame to store lookalike results\n",
    "lookalikes = {}"
   ]
  },
  {
   "cell_type": "code",
   "execution_count": 11,
   "id": "0157924a",
   "metadata": {},
   "outputs": [],
   "source": [
    "# Find top 3 similar customers for each of the first 20 customers (C0001 - C0020)\n",
    "for i in range(20):\n",
    "    customer_id = customer_profiles.iloc[i][\"CustomerID\"]\n",
    "    similarity_scores = similarity_matrix[i]\n",
    "    \n",
    "    # Get top 3 most similar customers (excluding the customer itself)\n",
    "    top_indices = np.argsort(similarity_scores)[::-1][1:4]\n",
    "    top_customers = [\n",
    "        (customer_profiles.iloc[idx][\"CustomerID\"], round(similarity_scores[idx], 3)) \n",
    "        for idx in top_indices\n",
    "    ]\n",
    "    \n",
    "    lookalikes[customer_id] = top_customers\n"
   ]
  },
  {
   "cell_type": "code",
   "execution_count": 15,
   "id": "08b9b6c5",
   "metadata": {},
   "outputs": [
    {
     "name": "stdout",
     "output_type": "stream",
     "text": [
      "Lookalike Model completed. Results saved to 'Lookalike.csv'\n"
     ]
    }
   ],
   "source": [
    "# Convert the lookalike results into a DataFrame\n",
    "lookalike_df = pd.DataFrame(\n",
    "    {\"CustomerID\": lookalikes.keys(), \"Lookalikes\": [str(val) for val in lookalikes.values()]}\n",
    ")\n",
    "\n",
    "# Save the lookalike results to Lookalike.csv\n",
    "lookalike_df.to_csv(\"Lookalike.csv\", index=False)\n",
    "\n",
    "print(\"Lookalike Model completed. Results saved to 'Lookalike.csv'\")"
   ]
  },
  {
   "cell_type": "code",
   "execution_count": null,
   "id": "d1eb998a",
   "metadata": {},
   "outputs": [],
   "source": []
  }
 ],
 "metadata": {
  "kernelspec": {
   "display_name": "Python 3 (ipykernel)",
   "language": "python",
   "name": "python3"
  },
  "language_info": {
   "codemirror_mode": {
    "name": "ipython",
    "version": 3
   },
   "file_extension": ".py",
   "mimetype": "text/x-python",
   "name": "python",
   "nbconvert_exporter": "python",
   "pygments_lexer": "ipython3",
   "version": "3.9.13"
  }
 },
 "nbformat": 4,
 "nbformat_minor": 5
}
